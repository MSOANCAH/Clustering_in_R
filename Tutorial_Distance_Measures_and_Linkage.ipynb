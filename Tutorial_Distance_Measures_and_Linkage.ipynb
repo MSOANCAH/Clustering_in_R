{
 "cells": [
  {
   "cell_type": "markdown",
   "metadata": {},
   "source": [
    "# Distance Measures & Linkage (by David Ziganto)"
   ]
  },
  {
   "cell_type": "markdown",
   "metadata": {},
   "source": [
    "Distance measures are fundamental to anomaly detection, classification, and clustering. Three terms associated with distance measures come up frequently: similarity, dissimilarity, and correlation. We will now explore these concepts in more detail. \n",
    "\n",
    "Here is a list of common distance measures:\n",
    "\n",
    "* Euclidean\n",
    "* Manhattan (aka taxicab)\n",
    "* Minkowski\n",
    "* Cosine\n",
    "* Mahalanobis\n",
    "\n",
    "#### Euclidean Distance\n",
    "Euclidean distance computes the distance between two objects in Euclidean space. That space can be 1-dimensional, 2-dimensional, or even n-dimensional. Think of the distance between points as the crow flies, to use an analogy. Use the Pythagorean Theorem to calculate the distance. For example, say you walk three blocks North and four blocks East. Your Euclidean distance is five blocks.\n",
    "\n",
    "#### Manhattan Distance\n",
    "Manhattant distance computes the distance between two objects by traversing vertically and horizontally in a grid-based system. Think of walking in a city. For example, take the same scenrio above: you walk three blocks North and four blocks East. Your Manhattan distance is seven blocks. \n",
    "\n",
    "#### Minkowski Distance\n",
    "Minkowski distance is the most general form for calculating distances in Euclidean space. Euclidean and Manhattan distance are special cases of Minkowski distance. Specifically, Mnahattan distance is calculated using a parameter value r=1 and Euclidean distance uses r=2. When r=Inf, the Minkowski distance calculates the supremum (least upper bound); it also goes by the names Chebyshev distance and Chessboard distance. \n",
    "\n",
    "#### Cosine Similarity\n",
    "Cosine similarity calculates the angle between two vectors. It is a metric of orientation, not magnitude. \n",
    "\n",
    "#### Mahalanobis Distance\n",
    "Mahalanobis distance computes the distance between two groups of an object. Since the previous statement may not be entirely clear, imagine we have two clusters. Say they are well separated, though they needn't be. The Mahalanobis distance is the distance between cluster 1 and cluster 2. More specifically, it is a measure of distance between a point and a distribution. It is a multi-dimensional generalization of measureing how many standard deviations away a ponit is from the mean of the distribution. Mahalanobis distance removes sevearl limitations of Euclidean space:\n",
    "\n",
    "* Unitless \n",
    "* Scale invariant\n",
    "* Corrects for correlations between features\n",
    "* Can handle curved and linear decision boundaries\n",
    "\n",
    "Cons: memory and time requirements grow quadratically with number of features."
   ]
  },
  {
   "cell_type": "markdown",
   "metadata": {},
   "source": [
    "## (Dis)similarity & Correlation\n",
    "Similarity and dissimilarity are opposite sides of the same coin. \n",
    "\n",
    "Similarity, like its name suggests, describes how similar objects are to each other. Similarity scores range from 0 to 1, where 0 indicates no similarity and 1 indicates exact similarity. \n",
    "\n",
    "Dissimilarity, on the the other hand, describes how different objects are from each other. Dissimilarity scores range from 0 to infinity, where 0 indicates two objects are exactly alike and infinity indicates they couldn't be more different. \n",
    "\n",
    "It is possible to convert from similarity to dissimilarity and vice-versa. \n",
    "\n",
    "Correlation is a statistical technique that can show how strongly pairs of variables are related. It can only be used with continuous data, not categorical. Correlation scores range from -1 to 1, where -1 indicates two variables are inversely related, 0 indicates no relation, and 1 indicates direct relationship. Correlation does not measure the distance between objects. It merely tells how strongly or weekly the relationship is between variables."
   ]
  },
  {
   "cell_type": "markdown",
   "metadata": {},
   "source": [
    "## Linkage Types\n",
    "Linkage measures the distance between a data item and a cluster or between two clusters. Since a data point can be treated as a cluster, the only thing yet to be determined is the linkage methods available. Let's explore the possibilities.\n",
    "\n",
    "### Single-Linkage\n",
    "Single-linkage measures the minimum of all pairwise distances between points in two clusters. In other words, find the points in each of the two clusters that are closest and calculate the distance. \n",
    "\n",
    "This linkage method tends to produce **long, loose clusters**.\n",
    "### Complete-Linkage\n",
    "Complete-linkage measures the maximum of all pairwise distances between points in two clusters. In other words, find the points in each of the two clustes that are farthest apart and calculate the distance.\n",
    "\n",
    "This linkage method tends to produce **very tight clusters**.\n",
    "### Average-Linkage\n",
    "Average-linkage measures the distance between the mean of each cluster. In other words, find the mean nof all data items within each cluster and then calculate the distance between the clusters' means."
   ]
  }
 ],
 "metadata": {
  "kernelspec": {
   "display_name": "R",
   "language": "R",
   "name": "ir"
  },
  "language_info": {
   "codemirror_mode": "r",
   "file_extension": ".r",
   "mimetype": "text/x-r-source",
   "name": "R",
   "pygments_lexer": "r",
   "version": "3.2.4"
  }
 },
 "nbformat": 4,
 "nbformat_minor": 0
}
